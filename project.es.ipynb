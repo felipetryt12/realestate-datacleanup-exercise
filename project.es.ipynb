{
 "cells": [
  {
   "attachments": {},
   "cell_type": "markdown",
   "id": "innocent-university",
   "metadata": {},
   "source": [
    "# Limpieza de bienes raíces\n",
    "\n",
    "Este es un conjunto de datos (dataset) reales que fue descargado usando técnicas de web scraping. La data contiene registros de fotocasa, el cual es uno de los sitios mas populares de bienes raíces en España. Por favor no hagas estos (web scraping) a no ser que sea para propósitos académicos.\n",
    "\n",
    "El dataset fue descargado hace algunos años por Henry Navarro y en ningún caso se obtuvo beneficio económico de ello.\n",
    "\n",
    "Contiene miles de datos de casas reales publicadas en la web www.fotocasa.com. Tu objetivo es extraer tanta información como sea posible con el conocimiento que tienes hasta ahora de ciencia de datos, por ejemplo ¿cuál es la casa mas cara en todo el dataset?\n",
    "\n",
    "Empecemos precisamente con esa pregunta... ¡Buena suerte!\n",
    "\n",
    "Let's start with precisely that question... Good luck!"
   ]
  },
  {
   "attachments": {},
   "cell_type": "markdown",
   "id": "multiple-glass",
   "metadata": {},
   "source": [
    "#### Ejercicio 00. Lee el dataset assets/real_estate.csv e intenta visualizar la tabla (★☆☆)"
   ]
  },
  {
   "attachments": {},
   "cell_type": "markdown",
   "id": "latin-guest",
   "metadata": {},
   "source": [
    "#### Ejercicio 01. ¿Cuál es la casa mas cara en el todo el dataset? (★☆☆)\n",
    "\n",
    "Imprime la direccion y el precio de la casa seleccionada. Por ejemplo:\n",
    "\n",
    "`The house with address General Street Nº5 is the most expensive and its price is 5000000 USD`"
   ]
  },
  {
   "cell_type": "code",
   "execution_count": 1,
   "id": "frank-heath",
   "metadata": {},
   "outputs": [
    {
     "data": {
      "text/html": [
       "<div>\n",
       "<style scoped>\n",
       "    .dataframe tbody tr th:only-of-type {\n",
       "        vertical-align: middle;\n",
       "    }\n",
       "\n",
       "    .dataframe tbody tr th {\n",
       "        vertical-align: top;\n",
       "    }\n",
       "\n",
       "    .dataframe thead th {\n",
       "        text-align: right;\n",
       "    }\n",
       "</style>\n",
       "<table border=\"1\" class=\"dataframe\">\n",
       "  <thead>\n",
       "    <tr style=\"text-align: right;\">\n",
       "      <th></th>\n",
       "      <th>Unnamed: 0</th>\n",
       "      <th>id_realEstates</th>\n",
       "      <th>isNew</th>\n",
       "      <th>realEstate_name</th>\n",
       "      <th>phone_realEstate</th>\n",
       "      <th>url_inmueble</th>\n",
       "      <th>rooms</th>\n",
       "      <th>bathrooms</th>\n",
       "      <th>surface</th>\n",
       "      <th>price</th>\n",
       "      <th>...</th>\n",
       "      <th>level4Id</th>\n",
       "      <th>level5Id</th>\n",
       "      <th>level6Id</th>\n",
       "      <th>level7Id</th>\n",
       "      <th>level8Id</th>\n",
       "      <th>accuracy</th>\n",
       "      <th>latitude</th>\n",
       "      <th>longitude</th>\n",
       "      <th>zipCode</th>\n",
       "      <th>customZone</th>\n",
       "    </tr>\n",
       "  </thead>\n",
       "  <tbody>\n",
       "    <tr>\n",
       "      <th>0</th>\n",
       "      <td>1</td>\n",
       "      <td>153771986</td>\n",
       "      <td>False</td>\n",
       "      <td>ferrari 57 inmobiliaria</td>\n",
       "      <td>912177526.0</td>\n",
       "      <td>https://www.fotocasa.es/es/comprar/vivienda/ma...</td>\n",
       "      <td>3.0</td>\n",
       "      <td>2.0</td>\n",
       "      <td>103.0</td>\n",
       "      <td>195000</td>\n",
       "      <td>...</td>\n",
       "      <td>0</td>\n",
       "      <td>0</td>\n",
       "      <td>0</td>\n",
       "      <td>0</td>\n",
       "      <td>0</td>\n",
       "      <td>0</td>\n",
       "      <td>40,2948276786438</td>\n",
       "      <td>-3,44402412135624</td>\n",
       "      <td>NaN</td>\n",
       "      <td>NaN</td>\n",
       "    </tr>\n",
       "    <tr>\n",
       "      <th>1</th>\n",
       "      <td>2</td>\n",
       "      <td>153867863</td>\n",
       "      <td>False</td>\n",
       "      <td>tecnocasa fuenlabrada ferrocarril</td>\n",
       "      <td>916358736.0</td>\n",
       "      <td>https://www.fotocasa.es/es/comprar/vivienda/ma...</td>\n",
       "      <td>3.0</td>\n",
       "      <td>1.0</td>\n",
       "      <td>NaN</td>\n",
       "      <td>89000</td>\n",
       "      <td>...</td>\n",
       "      <td>0</td>\n",
       "      <td>0</td>\n",
       "      <td>0</td>\n",
       "      <td>0</td>\n",
       "      <td>0</td>\n",
       "      <td>1</td>\n",
       "      <td>40,28674</td>\n",
       "      <td>-3,79351</td>\n",
       "      <td>NaN</td>\n",
       "      <td>NaN</td>\n",
       "    </tr>\n",
       "    <tr>\n",
       "      <th>2</th>\n",
       "      <td>3</td>\n",
       "      <td>153430440</td>\n",
       "      <td>False</td>\n",
       "      <td>look find boadilla</td>\n",
       "      <td>916350408.0</td>\n",
       "      <td>https://www.fotocasa.es/es/comprar/vivienda/ma...</td>\n",
       "      <td>2.0</td>\n",
       "      <td>2.0</td>\n",
       "      <td>99.0</td>\n",
       "      <td>390000</td>\n",
       "      <td>...</td>\n",
       "      <td>0</td>\n",
       "      <td>0</td>\n",
       "      <td>0</td>\n",
       "      <td>0</td>\n",
       "      <td>0</td>\n",
       "      <td>0</td>\n",
       "      <td>40,4115646786438</td>\n",
       "      <td>-3,90662252135624</td>\n",
       "      <td>NaN</td>\n",
       "      <td>NaN</td>\n",
       "    </tr>\n",
       "    <tr>\n",
       "      <th>3</th>\n",
       "      <td>4</td>\n",
       "      <td>152776331</td>\n",
       "      <td>False</td>\n",
       "      <td>tecnocasa fuenlabrada ferrocarril</td>\n",
       "      <td>916358736.0</td>\n",
       "      <td>https://www.fotocasa.es/es/comprar/vivienda/ma...</td>\n",
       "      <td>3.0</td>\n",
       "      <td>1.0</td>\n",
       "      <td>86.0</td>\n",
       "      <td>89000</td>\n",
       "      <td>...</td>\n",
       "      <td>0</td>\n",
       "      <td>0</td>\n",
       "      <td>0</td>\n",
       "      <td>0</td>\n",
       "      <td>0</td>\n",
       "      <td>0</td>\n",
       "      <td>40,2853785786438</td>\n",
       "      <td>-3,79508142135624</td>\n",
       "      <td>NaN</td>\n",
       "      <td>NaN</td>\n",
       "    </tr>\n",
       "    <tr>\n",
       "      <th>4</th>\n",
       "      <td>5</td>\n",
       "      <td>153180188</td>\n",
       "      <td>False</td>\n",
       "      <td>ferrari 57 inmobiliaria</td>\n",
       "      <td>912177526.0</td>\n",
       "      <td>https://www.fotocasa.es/es/comprar/vivienda/ma...</td>\n",
       "      <td>2.0</td>\n",
       "      <td>2.0</td>\n",
       "      <td>106.0</td>\n",
       "      <td>172000</td>\n",
       "      <td>...</td>\n",
       "      <td>0</td>\n",
       "      <td>0</td>\n",
       "      <td>0</td>\n",
       "      <td>0</td>\n",
       "      <td>0</td>\n",
       "      <td>0</td>\n",
       "      <td>40,2998774864376</td>\n",
       "      <td>-3,45226301356237</td>\n",
       "      <td>NaN</td>\n",
       "      <td>NaN</td>\n",
       "    </tr>\n",
       "    <tr>\n",
       "      <th>...</th>\n",
       "      <td>...</td>\n",
       "      <td>...</td>\n",
       "      <td>...</td>\n",
       "      <td>...</td>\n",
       "      <td>...</td>\n",
       "      <td>...</td>\n",
       "      <td>...</td>\n",
       "      <td>...</td>\n",
       "      <td>...</td>\n",
       "      <td>...</td>\n",
       "      <td>...</td>\n",
       "      <td>...</td>\n",
       "      <td>...</td>\n",
       "      <td>...</td>\n",
       "      <td>...</td>\n",
       "      <td>...</td>\n",
       "      <td>...</td>\n",
       "      <td>...</td>\n",
       "      <td>...</td>\n",
       "      <td>...</td>\n",
       "      <td>...</td>\n",
       "    </tr>\n",
       "    <tr>\n",
       "      <th>15330</th>\n",
       "      <td>15331</td>\n",
       "      <td>153901377</td>\n",
       "      <td>False</td>\n",
       "      <td>infocasa consulting</td>\n",
       "      <td>911360461.0</td>\n",
       "      <td>https://www.fotocasa.es/es/comprar/vivienda/ma...</td>\n",
       "      <td>2.0</td>\n",
       "      <td>1.0</td>\n",
       "      <td>96.0</td>\n",
       "      <td>259470</td>\n",
       "      <td>...</td>\n",
       "      <td>0</td>\n",
       "      <td>0</td>\n",
       "      <td>0</td>\n",
       "      <td>0</td>\n",
       "      <td>0</td>\n",
       "      <td>0</td>\n",
       "      <td>40,45416</td>\n",
       "      <td>-3,70286</td>\n",
       "      <td>NaN</td>\n",
       "      <td>NaN</td>\n",
       "    </tr>\n",
       "    <tr>\n",
       "      <th>15331</th>\n",
       "      <td>15332</td>\n",
       "      <td>150394373</td>\n",
       "      <td>False</td>\n",
       "      <td>inmobiliaria pulpon</td>\n",
       "      <td>912788039.0</td>\n",
       "      <td>https://www.fotocasa.es/es/comprar/vivienda/ma...</td>\n",
       "      <td>3.0</td>\n",
       "      <td>1.0</td>\n",
       "      <td>150.0</td>\n",
       "      <td>165000</td>\n",
       "      <td>...</td>\n",
       "      <td>0</td>\n",
       "      <td>0</td>\n",
       "      <td>0</td>\n",
       "      <td>0</td>\n",
       "      <td>0</td>\n",
       "      <td>0</td>\n",
       "      <td>40,36652</td>\n",
       "      <td>-3,48951</td>\n",
       "      <td>NaN</td>\n",
       "      <td>NaN</td>\n",
       "    </tr>\n",
       "    <tr>\n",
       "      <th>15332</th>\n",
       "      <td>15333</td>\n",
       "      <td>153901397</td>\n",
       "      <td>False</td>\n",
       "      <td>tecnocasa torrelodones</td>\n",
       "      <td>912780348.0</td>\n",
       "      <td>https://www.fotocasa.es/es/comprar/vivienda/ma...</td>\n",
       "      <td>4.0</td>\n",
       "      <td>2.0</td>\n",
       "      <td>175.0</td>\n",
       "      <td>495000</td>\n",
       "      <td>...</td>\n",
       "      <td>0</td>\n",
       "      <td>0</td>\n",
       "      <td>0</td>\n",
       "      <td>0</td>\n",
       "      <td>0</td>\n",
       "      <td>0</td>\n",
       "      <td>40,57444</td>\n",
       "      <td>-3,92124</td>\n",
       "      <td>NaN</td>\n",
       "      <td>NaN</td>\n",
       "    </tr>\n",
       "    <tr>\n",
       "      <th>15333</th>\n",
       "      <td>15334</td>\n",
       "      <td>152607440</td>\n",
       "      <td>False</td>\n",
       "      <td>inmobiliaria pulpon</td>\n",
       "      <td>912788039.0</td>\n",
       "      <td>https://www.fotocasa.es/es/comprar/vivienda/ma...</td>\n",
       "      <td>3.0</td>\n",
       "      <td>2.0</td>\n",
       "      <td>101.0</td>\n",
       "      <td>195000</td>\n",
       "      <td>...</td>\n",
       "      <td>0</td>\n",
       "      <td>0</td>\n",
       "      <td>0</td>\n",
       "      <td>0</td>\n",
       "      <td>0</td>\n",
       "      <td>0</td>\n",
       "      <td>40,36967</td>\n",
       "      <td>-3,48105</td>\n",
       "      <td>NaN</td>\n",
       "      <td>NaN</td>\n",
       "    </tr>\n",
       "    <tr>\n",
       "      <th>15334</th>\n",
       "      <td>15335</td>\n",
       "      <td>153901356</td>\n",
       "      <td>False</td>\n",
       "      <td>infocasa consulting</td>\n",
       "      <td>911360461.0</td>\n",
       "      <td>https://www.fotocasa.es/es/comprar/vivienda/ma...</td>\n",
       "      <td>3.0</td>\n",
       "      <td>2.0</td>\n",
       "      <td>152.0</td>\n",
       "      <td>765000</td>\n",
       "      <td>...</td>\n",
       "      <td>0</td>\n",
       "      <td>0</td>\n",
       "      <td>0</td>\n",
       "      <td>0</td>\n",
       "      <td>0</td>\n",
       "      <td>0</td>\n",
       "      <td>40,45773</td>\n",
       "      <td>-3,69068</td>\n",
       "      <td>NaN</td>\n",
       "      <td>NaN</td>\n",
       "    </tr>\n",
       "  </tbody>\n",
       "</table>\n",
       "<p>15335 rows × 37 columns</p>\n",
       "</div>"
      ],
      "text/plain": [
       "       Unnamed: 0  id_realEstates  isNew                    realEstate_name  \\\n",
       "0               1       153771986  False            ferrari 57 inmobiliaria   \n",
       "1               2       153867863  False  tecnocasa fuenlabrada ferrocarril   \n",
       "2               3       153430440  False                 look find boadilla   \n",
       "3               4       152776331  False  tecnocasa fuenlabrada ferrocarril   \n",
       "4               5       153180188  False            ferrari 57 inmobiliaria   \n",
       "...           ...             ...    ...                                ...   \n",
       "15330       15331       153901377  False                infocasa consulting   \n",
       "15331       15332       150394373  False                inmobiliaria pulpon   \n",
       "15332       15333       153901397  False             tecnocasa torrelodones   \n",
       "15333       15334       152607440  False                inmobiliaria pulpon   \n",
       "15334       15335       153901356  False                infocasa consulting   \n",
       "\n",
       "       phone_realEstate                                       url_inmueble  \\\n",
       "0           912177526.0  https://www.fotocasa.es/es/comprar/vivienda/ma...   \n",
       "1           916358736.0  https://www.fotocasa.es/es/comprar/vivienda/ma...   \n",
       "2           916350408.0  https://www.fotocasa.es/es/comprar/vivienda/ma...   \n",
       "3           916358736.0  https://www.fotocasa.es/es/comprar/vivienda/ma...   \n",
       "4           912177526.0  https://www.fotocasa.es/es/comprar/vivienda/ma...   \n",
       "...                 ...                                                ...   \n",
       "15330       911360461.0  https://www.fotocasa.es/es/comprar/vivienda/ma...   \n",
       "15331       912788039.0  https://www.fotocasa.es/es/comprar/vivienda/ma...   \n",
       "15332       912780348.0  https://www.fotocasa.es/es/comprar/vivienda/ma...   \n",
       "15333       912788039.0  https://www.fotocasa.es/es/comprar/vivienda/ma...   \n",
       "15334       911360461.0  https://www.fotocasa.es/es/comprar/vivienda/ma...   \n",
       "\n",
       "       rooms  bathrooms  surface   price  ... level4Id level5Id level6Id  \\\n",
       "0        3.0        2.0    103.0  195000  ...        0        0        0   \n",
       "1        3.0        1.0      NaN   89000  ...        0        0        0   \n",
       "2        2.0        2.0     99.0  390000  ...        0        0        0   \n",
       "3        3.0        1.0     86.0   89000  ...        0        0        0   \n",
       "4        2.0        2.0    106.0  172000  ...        0        0        0   \n",
       "...      ...        ...      ...     ...  ...      ...      ...      ...   \n",
       "15330    2.0        1.0     96.0  259470  ...        0        0        0   \n",
       "15331    3.0        1.0    150.0  165000  ...        0        0        0   \n",
       "15332    4.0        2.0    175.0  495000  ...        0        0        0   \n",
       "15333    3.0        2.0    101.0  195000  ...        0        0        0   \n",
       "15334    3.0        2.0    152.0  765000  ...        0        0        0   \n",
       "\n",
       "      level7Id level8Id accuracy          latitude          longitude zipCode  \\\n",
       "0            0        0        0  40,2948276786438  -3,44402412135624     NaN   \n",
       "1            0        0        1          40,28674           -3,79351     NaN   \n",
       "2            0        0        0  40,4115646786438  -3,90662252135624     NaN   \n",
       "3            0        0        0  40,2853785786438  -3,79508142135624     NaN   \n",
       "4            0        0        0  40,2998774864376  -3,45226301356237     NaN   \n",
       "...        ...      ...      ...               ...                ...     ...   \n",
       "15330        0        0        0          40,45416           -3,70286     NaN   \n",
       "15331        0        0        0          40,36652           -3,48951     NaN   \n",
       "15332        0        0        0          40,57444           -3,92124     NaN   \n",
       "15333        0        0        0          40,36967           -3,48105     NaN   \n",
       "15334        0        0        0          40,45773           -3,69068     NaN   \n",
       "\n",
       "      customZone  \n",
       "0            NaN  \n",
       "1            NaN  \n",
       "2            NaN  \n",
       "3            NaN  \n",
       "4            NaN  \n",
       "...          ...  \n",
       "15330        NaN  \n",
       "15331        NaN  \n",
       "15332        NaN  \n",
       "15333        NaN  \n",
       "15334        NaN  \n",
       "\n",
       "[15335 rows x 37 columns]"
      ]
     },
     "execution_count": 1,
     "metadata": {},
     "output_type": "execute_result"
    }
   ],
   "source": [
    "import pandas as pd\n",
    "\n",
    "# this CSV file contains semicolons instead of comas as separator\n",
    "ds = pd.read_csv('assets/real_estate.csv', sep=';')\n",
    "ds"
   ]
  },
  {
   "cell_type": "code",
   "execution_count": 3,
   "id": "developing-optimum",
   "metadata": {},
   "outputs": [
    {
     "name": "stdout",
     "output_type": "stream",
     "text": [
      "The house with the address El Escorial is the most expensive and its price is 8500000 USD\n"
     ]
    }
   ],
   "source": [
    "import pandas as pd\n",
    "\n",
    "df = pd.DataFrame(ds)\n",
    "maxprice = df['price'].max()\n",
    "#print(maxprice)\n",
    "maxadd = df.loc[df['price'] == 8500000, 'address'].to_string(index=False)\n",
    "#print(maxadd)\n",
    "print(f'The house with the address {maxadd} is the most expensive and its price is {maxprice} USD')\n",
    "\n",
    "#print(df.info())"
   ]
  },
  {
   "attachments": {},
   "cell_type": "markdown",
   "id": "lesser-cosmetic",
   "metadata": {},
   "source": [
    "#### Ejercicio 02. ¿Cuál es la casa mas barata del dataset? (★☆☆)\n",
    "\n",
    "Imprime la dirección y el precio de la casa seleccionada. Por ejemplo:\n",
    "\n",
    "`The house with address Concrete Street Nº1 is the cheapest and its price is 12000 USD`"
   ]
  },
  {
   "cell_type": "code",
   "execution_count": 6,
   "id": "lovely-oasis",
   "metadata": {},
   "outputs": [
    {
     "name": "stdout",
     "output_type": "stream",
     "text": [
      "600\n",
      "The house with addreess Berlin, Coslada is the cheapest and its price is 600 USD\n"
     ]
    }
   ],
   "source": [
    "# TODO\n",
    "#Here below i removed all the houses that had a zero as price, it was because this fact seemed like for a data analysis they should not be counted since its ilogical that a house costs 0 dollars\n",
    "df = df.drop(df[df['price'] == '0' ].index) #this line stoped working after i reloaded the workspace i dont know what happened\n",
    "#print(df.loc[df['price'] == 0, 'address'].to_string(index=False))\n",
    "minprice = df.query('price > 0')['price'].min()\n",
    "print(minprice)\n",
    "minadd = df.loc[df['price'] == minprice, 'address'].to_string(index=False)\n",
    "#print(minadd)\n",
    "\n",
    "print(f'The house with addreess {minadd} is the cheapest and its price is {minprice} USD')\n",
    "#print(df.describe())\n",
    "\n"
   ]
  },
  {
   "attachments": {},
   "cell_type": "markdown",
   "id": "compliant-fellowship",
   "metadata": {},
   "source": [
    "#### Ejercicio 03. ¿Cuál es la casa mas grande y la mas pequeña del dataset? (★☆☆)\n",
    "\n",
    "Imprime la dirección y el area de las casas seleccionadas. Por ejemplo:\n",
    "\n",
    "`The bigger house is located on Yukka Street Nº10 and its surface is 5000 meters`\n",
    "\n",
    "`The smaller house is located on County Road 1 N and its surface is 200 meters`"
   ]
  },
  {
   "cell_type": "code",
   "execution_count": 7,
   "id": "every-tiffany",
   "metadata": {},
   "outputs": [
    {
     "name": "stdout",
     "output_type": "stream",
     "text": [
      "The bigger house is located on Sevilla la Nueva and its surface is 249000.0 meters\n",
      "The smaller house is located on Calle Amparo,  Madrid Capital and its surface is 15.0 meters\n"
     ]
    }
   ],
   "source": [
    "# TODO\n",
    "#print(df.info())\n",
    "bighouse = df['surface'].max()\n",
    "#print(bighouse)\n",
    "bha = df.loc[df['surface'] == bighouse, 'address'].to_string(index = False)\n",
    "#bha = bha.to_string(index=False)\n",
    "print(f'The bigger house is located on {bha} and its surface is {bighouse} meters')\n",
    "smallhouse = df['surface'].min()\n",
    "#print(smallhouse)\n",
    "sha = df.loc[df['surface'] == smallhouse, 'address'].to_string(index = False)\n",
    "#sha = sha.to_string(index = False)\n",
    "print(f'The smaller house is located on {sha} and its surface is {smallhouse} meters')"
   ]
  },
  {
   "attachments": {},
   "cell_type": "markdown",
   "id": "danish-spirit",
   "metadata": {},
   "source": [
    "#### Ejercicio 04. ¿Cuantas poblaciones (columna level5) contiene el dataset? (★☆☆)\n",
    "\n",
    "Imprime el nombre de las poblaciones separadas por coma. Por ejemplo:\n",
    "\n",
    "`> print(populations)`\n",
    "\n",
    "`population1, population2, population3,...`"
   ]
  },
  {
   "cell_type": "code",
   "execution_count": 8,
   "id": "exciting-accreditation",
   "metadata": {},
   "outputs": [
    {
     "name": "stdout",
     "output_type": "stream",
     "text": [
      "[' Madrid Capital', 'Ajalvir', 'Alcalá de Henares', 'Alcobendas', 'Alcorcón', 'Aldea del Fresno', 'Algete', 'Alpedrete', 'Ambite', 'Anchuelo', 'Aranjuez', 'Arganda del Rey', 'Arroyomolinos (Madrid)', 'Batres', 'Becerril de la Sierra', 'Belmonte de Tajo', 'Boadilla del Monte', 'Braojos', 'Brea de Tajo', 'Brunete', 'Buitrago del Lozoya', 'Bustarviejo', 'Cabanillas de la Sierra', 'Cadalso de los Vidrios', 'Camarma de Esteruelas', 'Campo Real', 'Canencia', 'Carabaña', 'Casarrubuelos', 'Cenicientos', 'Cercedilla', 'Chapinería', 'Chinchón', 'Ciempozuelos', 'Cobeña', 'Collado Mediano', 'Collado Villalba', 'Colmenar Viejo', 'Colmenar de Oreja', 'Colmenar del Arroyo', 'Colmenarejo', 'Corpa', 'Coslada', 'Cubas de la Sagra', 'Daganzo de Arriba', 'El Atazar', 'El Berrueco', 'El Boalo - Cerceda – Mataelpino', 'El Escorial', 'El Molar (Madrid)', 'El Vellón', 'El Álamo', 'Estremera', 'Fresnedillas de la Oliva', 'Fresno de Torote', 'Fresno de Torote - Serracines', 'Fuenlabrada', 'Fuente El Saz de Jarama', 'Fuentidueña de Tajo', 'Galapagar', 'Garganta de los Montes', 'Gargantilla del Lozoya', 'Gascones', 'Getafe', 'Griñón', 'Guadalix de la Sierra', 'Guadarrama', 'Horcajo de la Sierra', 'Hoyo de Manzanares', 'Humanes de Madrid', 'La Cabrera', 'La Hiruela', 'Las Rozas de Madrid', 'Leganés', 'Loeches', 'Los Molinos', 'Los Santos de la Humosa', 'Lozoya', 'Lozoyuela-navas-sieteiglesias', 'Madarcos', 'Majadahonda', 'Manzanares El Real', 'Meco', 'Mejorada del Campo', 'Miraflores de la Sierra', 'Montejo de la Sierra', 'Moraleja de Enmedio', 'Moralzarzal', 'Morata de Tajuña', 'Móstoles', 'Navacerrada', 'Navalafuente', 'Navalagamella', 'Navalcarnero', 'Navarredonda', 'Navas del Rey', 'Nuevo Baztán', 'Orusco de Tajuña', 'Paracuellos de Jarama', 'Parla', 'Patones', 'Pedrezuela', 'Pelayos de la Presa', 'Perales de Tajuña', 'Pezuela de las Torres', 'Pinilla del Valle', 'Pinto', 'Piñuécar-gandullas', 'Pozuelo de Alarcón', 'Pozuelo del Rey', 'Puentes Viejas', 'Quijorna', 'Rascafría', 'Redueña', 'Ribatejada', 'Rivas-vaciamadrid', 'Robledo de Chavela', 'Robregordo', 'San Agustín del Guadalix', 'San Fernando de Henares', 'San Lorenzo de El Escorial', 'San Martín de Valdeiglesias', 'San Martín de la Vega', 'San Sebastián de los Reyes', 'Santa María de la Alameda', 'Santorcaz', 'Serranillos del Valle', 'Sevilla la Nueva', 'Soto del Real', 'Talamanca de Jarama', 'Tielmes', 'Titulcia', 'Torrejón de Ardoz', 'Torrejón de Velasco', 'Torrejón de la Calzada', 'Torrelaguna', 'Torrelodones', 'Torremocha de Jarama', 'Torres de la Alameda', 'Tres Cantos', 'Valdaracete', 'Valdeavero', 'Valdelaguna', 'Valdemanco', 'Valdemaqueda', 'Valdemorillo', 'Valdemoro', 'Valdeolmos-Alalpardo', 'Valdepiélagos', 'Valdetorres de Jarama', 'Valdilecha', 'Valverde de Alcalá', 'Velilla de San Antonio', 'Venturada', 'Villa del Prado', 'Villaconejos', 'Villalbilla', 'Villamanrique de Tajo', 'Villamanta', 'Villamantilla', 'Villanueva de Perales', 'Villanueva de la Cañada', 'Villanueva del Pardillo', 'Villar del Olmo', 'Villarejo de Salvanés', 'Villaviciosa de Odón', 'Villavieja del Lozoya', 'Zarzalejo']\n"
     ]
    }
   ],
   "source": [
    "# TODO\n",
    "nodup = df.drop_duplicates('level5')\n",
    "pob = nodup['level5'].tolist()\n",
    "#print(pob)\n",
    "\n",
    "\n",
    "pob.sort()\n",
    "print(pob)\n"
   ]
  },
  {
   "attachments": {},
   "cell_type": "markdown",
   "id": "crazy-blame",
   "metadata": {},
   "source": [
    "#### Ejercicio 05. ¿El data set contiene valores no admitidos (NAs)? (★☆☆)\n",
    "\n",
    "Imprima un booleano (`true` o `fase`) seguido de la fila/columna que contiene el NAs."
   ]
  },
  {
   "cell_type": "code",
   "execution_count": 9,
   "id": "transparent-poetry",
   "metadata": {},
   "outputs": [
    {
     "name": "stdout",
     "output_type": "stream",
     "text": [
      "       Unnamed: 0  id_realEstates  isNew  realEstate_name  phone_realEstate  \\\n",
      "0           False           False  False            False             False   \n",
      "1           False           False  False            False             False   \n",
      "2           False           False  False            False             False   \n",
      "3           False           False  False            False             False   \n",
      "4           False           False  False            False             False   \n",
      "...           ...             ...    ...              ...               ...   \n",
      "15330       False           False  False            False             False   \n",
      "15331       False           False  False            False             False   \n",
      "15332       False           False  False            False             False   \n",
      "15333       False           False  False            False             False   \n",
      "15334       False           False  False            False             False   \n",
      "\n",
      "       url_inmueble  rooms  bathrooms  surface  price  ...  level4Id  \\\n",
      "0             False  False      False    False  False  ...     False   \n",
      "1             False  False      False     True  False  ...     False   \n",
      "2             False  False      False    False  False  ...     False   \n",
      "3             False  False      False    False  False  ...     False   \n",
      "4             False  False      False    False  False  ...     False   \n",
      "...             ...    ...        ...      ...    ...  ...       ...   \n",
      "15330         False  False      False    False  False  ...     False   \n",
      "15331         False  False      False    False  False  ...     False   \n",
      "15332         False  False      False    False  False  ...     False   \n",
      "15333         False  False      False    False  False  ...     False   \n",
      "15334         False  False      False    False  False  ...     False   \n",
      "\n",
      "       level5Id  level6Id  level7Id  level8Id  accuracy  latitude  longitude  \\\n",
      "0         False     False     False     False     False     False      False   \n",
      "1         False     False     False     False     False     False      False   \n",
      "2         False     False     False     False     False     False      False   \n",
      "3         False     False     False     False     False     False      False   \n",
      "4         False     False     False     False     False     False      False   \n",
      "...         ...       ...       ...       ...       ...       ...        ...   \n",
      "15330     False     False     False     False     False     False      False   \n",
      "15331     False     False     False     False     False     False      False   \n",
      "15332     False     False     False     False     False     False      False   \n",
      "15333     False     False     False     False     False     False      False   \n",
      "15334     False     False     False     False     False     False      False   \n",
      "\n",
      "       zipCode  customZone  \n",
      "0         True        True  \n",
      "1         True        True  \n",
      "2         True        True  \n",
      "3         True        True  \n",
      "4         True        True  \n",
      "...        ...         ...  \n",
      "15330     True        True  \n",
      "15331     True        True  \n",
      "15332     True        True  \n",
      "15333     True        True  \n",
      "15334     True        True  \n",
      "\n",
      "[15335 rows x 37 columns]\n",
      "Unnamed: 0          False\n",
      "id_realEstates      False\n",
      "isNew               False\n",
      "realEstate_name      True\n",
      "phone_realEstate     True\n",
      "url_inmueble        False\n",
      "rooms                True\n",
      "bathrooms            True\n",
      "surface              True\n",
      "price               False\n",
      "date                False\n",
      "description          True\n",
      "address             False\n",
      "country             False\n",
      "level1              False\n",
      "level2              False\n",
      "level3              False\n",
      "level4               True\n",
      "level5              False\n",
      "level6               True\n",
      "level7               True\n",
      "level8               True\n",
      "upperLevel          False\n",
      "countryId           False\n",
      "level1Id            False\n",
      "level2Id            False\n",
      "level3Id            False\n",
      "level4Id            False\n",
      "level5Id            False\n",
      "level6Id            False\n",
      "level7Id            False\n",
      "level8Id            False\n",
      "accuracy            False\n",
      "latitude            False\n",
      "longitude           False\n",
      "zipCode              True\n",
      "customZone           True\n",
      "dtype: bool\n",
      "Unnamed: 0              0\n",
      "id_realEstates          0\n",
      "isNew                   0\n",
      "realEstate_name        10\n",
      "phone_realEstate      794\n",
      "url_inmueble            0\n",
      "rooms                 353\n",
      "bathrooms             345\n",
      "surface              1250\n",
      "price                   0\n",
      "date                    0\n",
      "description           142\n",
      "address                 0\n",
      "country                 0\n",
      "level1                  0\n",
      "level2                  0\n",
      "level3                  0\n",
      "level4               6643\n",
      "level5                  0\n",
      "level6              14627\n",
      "level7               2277\n",
      "level8               8579\n",
      "upperLevel              0\n",
      "countryId               0\n",
      "level1Id                0\n",
      "level2Id                0\n",
      "level3Id                0\n",
      "level4Id                0\n",
      "level5Id                0\n",
      "level6Id                0\n",
      "level7Id                0\n",
      "level8Id                0\n",
      "accuracy                0\n",
      "latitude                0\n",
      "longitude               0\n",
      "zipCode             15335\n",
      "customZone          15335\n",
      "dtype: int64\n"
     ]
    }
   ],
   "source": [
    "# TODO\n",
    "print(df.isnull())\n",
    "print(df.isnull().any())\n",
    "print(df.isnull().sum())\n"
   ]
  },
  {
   "attachments": {},
   "cell_type": "markdown",
   "id": "italic-hydrogen",
   "metadata": {},
   "source": [
    "#### Ejercicio 06. Elimina los NAs del data set, si aplica (★★☆)\n",
    "\n",
    "Imprima una comparación entre las dimensiones del DataFrame original versus el DataFrame después de las eliminaciones.\n"
   ]
  },
  {
   "cell_type": "code",
   "execution_count": 11,
   "id": "administrative-roads",
   "metadata": {},
   "outputs": [
    {
     "name": "stdout",
     "output_type": "stream",
     "text": [
      "original 567395\n",
      "0\n",
      "Original DataFrame is 567395 elements\n",
      "we have 65690 null values\n",
      "And 15335 rows\n",
      "deleting those new columns we have 521390 elements\n",
      "3740\n"
     ]
    }
   ],
   "source": [
    "# TODO\n",
    "#si solamente lo hacemos como ejercicio tenemos:\n",
    "print(f'original {df.size}')\n",
    "limpiado = df.dropna()\n",
    "\n",
    "#print(f'eliminando todas las filas con datos Nan tendriamos un {limpiado} porque hay 2 columnas enteras de valores Nan y una con mas de 14mil por eso elimino las 3')\n",
    "print(limpiado.size)\n",
    "\n",
    "print(f'Original DataFrame is {df.size} elements')\n",
    "print(f'we have {df.isnull().sum().sum()} null values')\n",
    "rows = len(df)\n",
    "print(f'And {rows} rows') #we have three columns that are all NaN values, as we saw\n",
    "#in the last excersise, these columns are deleting all my rows when i use dropna()\n",
    "#in order to correct this im going to eliminate these columns completly\n",
    "newdf = df.drop(columns=['level6','zipCode', 'customZone'])\n",
    "print(f'deleting those new columns we have {newdf.size} elements') #Now im going to work only with newdf as this is a more accurate \n",
    "#depiction of our dataset\n",
    "#print(newdf.info())\n",
    "verycleandf = newdf.dropna(how='any', axis=0)\n",
    "print(verycleandf.size)\n",
    "#my insight is that different rows contain Nan values for wich when we eliminate\n",
    "#all the rows with Nan we are left with so little data to work with \n",
    "#Si se me ha pasado algo por favor haganmelo saber, gracias!!\n",
    "\n",
    "\n",
    "\n"
   ]
  },
  {
   "cell_type": "markdown",
   "id": "4c827b7f",
   "metadata": {},
   "source": []
  },
  {
   "attachments": {},
   "cell_type": "markdown",
   "id": "middle-china",
   "metadata": {},
   "source": [
    "#### Ejercicio 07. ¿Cuál la media de precios en la población (columna level5) de \"Arroyomolinos (Madrid)\"? (★★☆)\n",
    "\n",
    "Imprima el valor obtenido"
   ]
  },
  {
   "cell_type": "code",
   "execution_count": 12,
   "id": "nuclear-belief",
   "metadata": {},
   "outputs": [
    {
     "name": "stdout",
     "output_type": "stream",
     "text": [
      "294541.59854014596\n",
      "0\n"
     ]
    }
   ],
   "source": [
    "# TODO\n",
    "arroy = df.loc[df['level5'] == 'Arroyomolinos (Madrid)']\n",
    "medarroy = arroy['price']\n",
    "medarroymean = medarroy.mean()\n",
    "print(medarroymean)\n",
    "#print(arroy.info())\n",
    "print(medarroy.min())\n"
   ]
  },
  {
   "attachments": {},
   "cell_type": "markdown",
   "id": "concerned-radical",
   "metadata": {},
   "source": [
    "#### Ejercicio 08. Trazar el histograma de los precios para la población (level5 column) de \"Arroyomolinos (Madrid)\" y explica qué observas (★★☆)\n",
    "\n",
    "Imprime el histograma de los precios y escribe en la celda del Markdown un breve análisis del trazado.\n"
   ]
  },
  {
   "cell_type": "code",
   "execution_count": 13,
   "id": "sudden-message",
   "metadata": {},
   "outputs": [
    {
     "name": "stdout",
     "output_type": "stream",
     "text": [
      "Axes(0.125,0.11;0.775x0.77)\n"
     ]
    },
    {
     "data": {
      "image/png": "[encoded data removed]",
      "text/plain": [
       "<Figure size 640x480 with 1 Axes>"
      ]
     },
     "metadata": {},
     "output_type": "display_data"
    }
   ],
   "source": [
    "# TODO: \n",
    "#medarroy son los precios de la poblacion de arroyomolinos\n",
    "medarroyhist = medarroy.hist(bins=137)\n",
    "print(medarroyhist)\n",
    "import matplotlib.pyplot as plt\n"
   ]
  },
  {
   "attachments": {},
   "cell_type": "markdown",
   "id": "impressed-combination",
   "metadata": {},
   "source": [
    "Como breve interpretacion del histograma podemos observar que el grueso de los precios de casas en la poblacion se queda entre los 200000 y 400000. siendo poco menos de 300000 de costo donde tenemos la cantidad mas repetida, tambien vemos un par de datos nulos que presentan un valor de cero y observamos que un presupuesto adecuado para comprar la mayoria de las casas sera de 400000 ya que pasando este precio tenemos pocas casas, otro dato importante seria notar que no se puede adquirir ninguna casa por debajo de los 150000 y la distribucion nos dice que la persona promedio de en esta poblacion debe tener un ingreso minimo que alcance los 200000 a traves de un tiempo adecuado para comprar su hogar\n"
   ]
  },
  {
   "attachments": {},
   "cell_type": "markdown",
   "id": "actual-edinburgh",
   "metadata": {},
   "source": [
    "#### Ejercicio 09. ¿ Son los precios promedios de \"Valdemorillo\" y \"Galapagar\" los mismos? (★★☆)\n",
    "\n",
    "Imprime ambos promedio y escribe una conclusion acerca de ellos"
   ]
  },
  {
   "cell_type": "code",
   "execution_count": 14,
   "id": "numeric-commerce",
   "metadata": {},
   "outputs": [
    {
     "name": "stdout",
     "output_type": "stream",
     "text": [
      "los precios promedio de valdemorillo son 363860.2931034483 y son parecidos pero no iguales a los 360063.20238095237 de galapagar\n",
      "Axes(0.125,0.11;0.775x0.77)\n",
      "Axes(0.125,0.11;0.775x0.77)\n"
     ]
    },
    {
     "data": {
      "image/png": "[encoded data removed]",
      "text/plain": [
       "<Figure size 640x480 with 1 Axes>"
      ]
     },
     "metadata": {},
     "output_type": "display_data"
    }
   ],
   "source": [
    "# TODO\n",
    "valde = df.loc[df['level5'] == 'Valdemorillo']\n",
    "galpa = df.loc[df['level5'] == 'Galapagar']\n",
    "valdep = valde['price']\n",
    "galpap = galpa['price']\n",
    "medvalde = valde['price'].mean()\n",
    "medgalpa = galpa['price'].mean()\n",
    "\n",
    "print(f'los precios promedio de valdemorillo son {medvalde} y son parecidos pero no iguales a los {medgalpa} de galapagar')\n",
    "#print(arroy.info())\n",
    "print(valdep.hist())\n",
    "print(galpap.hist())"
   ]
  },
  {
   "attachments": {},
   "cell_type": "markdown",
   "id": "lonely-article",
   "metadata": {},
   "source": [
    "#### Ejercicio 10. ¿Son los promedios de precio por metro cuadrado (price/m2) de \"Valdemorillo\" y \"Galapagar\" los mismos? (★★☆)\n",
    "\n",
    "Imprime ambos promedios de precio y escribe una conclusion acerca de ellos.\n",
    "\n",
    "Pista: Crea una nueva columna llamada `pps` (price per square) y luego analiza los valore.s"
   ]
  },
  {
   "cell_type": "code",
   "execution_count": 15,
   "id": "hourly-globe",
   "metadata": {},
   "outputs": [
    {
     "name": "stdout",
     "output_type": "stream",
     "text": [
      "1317.9502109024986\n",
      "1606.3240303094024\n"
     ]
    }
   ],
   "source": [
    "# TODO\n",
    "df['pps'] = df['price'] / df['surface']\n",
    "vp = df.loc[df['level5'] == 'Valdemorillo']\n",
    "gp = df.loc[df['level5'] == 'Galapagar']\n",
    "\n",
    "promv = vp['pps'].mean()\n",
    "print(promv)\n",
    "promg = gp['pps'].mean()\n",
    "print(promg)\n",
    "\n",
    "\n"
   ]
  },
  {
   "cell_type": "markdown",
   "id": "dc804c6f",
   "metadata": {},
   "source": [
    "El precio promedio por metro cuadrado de galapagar es aproximadamente un 20% mayor que en valdemorillo, lo cual es informacion que rompe con mi analisis anterior, ya que el promedio de precios de valdemorillo era mayor. Al tomar en cuenta esto podemos concluir que sera mas costoso comprar una propiedad en galapagar tomando en cuenta la relacion. "
   ]
  },
  {
   "attachments": {},
   "cell_type": "markdown",
   "id": "pleasant-invite",
   "metadata": {},
   "source": [
    "#### Ejercicio 11. Analiza la relación entre la superficie y el precio de las casas. (★★☆)\n",
    "\n",
    "Pista: Puedes hacer un `scatter plot` y luego escribir una conclusion al respecto."
   ]
  },
  {
   "cell_type": "code",
   "execution_count": 16,
   "id": "common-drilling",
   "metadata": {},
   "outputs": [
    {
     "name": "stderr",
     "output_type": "stream",
     "text": [
      "/tmp/ipykernel_15178/3144488005.py:3: UserWarning: No data for colormapping provided via 'c'. Parameters 'cmap' will be ignored\n",
      "  plt.scatter(df['surface'],df['price'], s=1, cmap='summer' )\n"
     ]
    },
    {
     "data": {
      "image/png": "[encoded data removed]",
      "text/plain": [
       "<Figure size 640x480 with 1 Axes>"
      ]
     },
     "metadata": {},
     "output_type": "display_data"
    }
   ],
   "source": [
    "# TODO: \n",
    "df.drop(df[df['price'] == 0].index)\n",
    "plt.scatter(df['surface'],df['price'], s=1, cmap='summer' )\n",
    "plt.xscale('log')\n",
    "plt.yscale('log')\n",
    "plt.xlabel('Surface')\n",
    "plt.ylabel('Price')\n",
    "plt.show()"
   ]
  },
  {
   "attachments": {},
   "cell_type": "markdown",
   "id": "ahead-liquid",
   "metadata": {},
   "source": [
    "Existe una correlacion entre una mayor superficie con un aumento de precio, no se puede asegurar que sea casual, pero si lo pensamos un poco, teniendo un mercado en el que se pone un precio por metro cuadrado, es logico que al aumenta la cantidad de emtros cuadrados, aumente el precio de las propiedades de forma lineal. "
   ]
  },
  {
   "attachments": {},
   "cell_type": "markdown",
   "id": "coordinate-sunrise",
   "metadata": {},
   "source": [
    "#### Ejercicio 12. ¿Cuántas agencia de bienes raíces contiene el dataset? (★★☆)\n",
    "\n",
    "Imprime el valor obtenido."
   ]
  },
  {
   "cell_type": "code",
   "execution_count": 17,
   "id": "valid-honolulu",
   "metadata": {},
   "outputs": [
    {
     "name": "stdout",
     "output_type": "stream",
     "text": [
      "1821\n"
     ]
    }
   ],
   "source": [
    "# TODO\n",
    "#print(df.info())\n",
    "#vamos a utilizar 'realEstate_name'\n",
    "num1 = df.drop_duplicates(['realEstate_name'])\n",
    "num2 = num1['realEstate_name']\n",
    "num3 = num2.dropna()\n",
    "print(len(num3))"
   ]
  },
  {
   "attachments": {},
   "cell_type": "markdown",
   "id": "binding-ebony",
   "metadata": {},
   "source": [
    "#### Ejercicio 13. ¿Cuál es la población (columna level5) que contiene la mayor cantidad de casas?(★★☆)\n",
    "\n",
    "Imprima la población y el número de casas."
   ]
  },
  {
   "cell_type": "code",
   "execution_count": 18,
   "id": "static-perry",
   "metadata": {},
   "outputs": [
    {
     "name": "stdout",
     "output_type": "stream",
     "text": [
      "level5\n",
      "Madrid Capital    6643\n"
     ]
    }
   ],
   "source": [
    "# TODO\n",
    "mod = df['level5'].mode()\n",
    "\n",
    "\n",
    "noo = df['level5'].value_counts()[mod]\n",
    "\n",
    "print(noo.to_string())\n",
    "\n"
   ]
  },
  {
   "attachments": {},
   "cell_type": "markdown",
   "id": "entire-classification",
   "metadata": {},
   "source": [
    "#### Ejercicio 14. Ahora vamos a trabajar con el \"cinturón sur\" de Madrid. Has un subconjunto del Dataframe original que contenga las siguientes poblaciones (columna level5): \"Fuenlabrada\",\"Leganés\",\"Getafe\",\"Alcorcón\" (★★☆)\n",
    "\n",
    "Pista: Filtra el Dataframe original usando la columna `level5` y la función `isin`"
   ]
  },
  {
   "cell_type": "code",
   "execution_count": 19,
   "id": "binary-input",
   "metadata": {},
   "outputs": [
    {
     "name": "stdout",
     "output_type": "stream",
     "text": [
      "1        Fuenlabrada\n",
      "3        Fuenlabrada\n",
      "85          Alcorcón\n",
      "94           Leganés\n",
      "109         Alcorcón\n",
      "            ...     \n",
      "15275    Fuenlabrada\n",
      "15291        Leganés\n",
      "15305    Fuenlabrada\n",
      "15322    Fuenlabrada\n",
      "15325    Fuenlabrada\n",
      "Name: level5, Length: 907, dtype: object\n"
     ]
    }
   ],
   "source": [
    "# TODO\n",
    "cinsurdf = df.loc[df['level5'].isin(['Fuenlabrada','Getafe','Alcorcón','Leganés'])]\n",
    "\n",
    "print(cinsurdf['level5'])"
   ]
  },
  {
   "attachments": {},
   "cell_type": "markdown",
   "id": "severe-fisher",
   "metadata": {},
   "source": [
    "#### Ejercicio 15. Traza un gráfico de barra de la media de los precios y explica lo que observas (debes usar el subconjunto obtenido de la pregunta 14) (★★★)\n",
    "\n",
    "Imprima un gráfico de barra de la media de precios y escriba en la celda Markdown un breve análisis del sector."
   ]
  },
  {
   "cell_type": "code",
   "execution_count": 20,
   "id": "lyric-bunch",
   "metadata": {},
   "outputs": [
    {
     "name": "stdout",
     "output_type": "stream",
     "text": [
      "177198.02145922746 208682.01030927835 265040.5 230071.05263157896\n"
     ]
    },
    {
     "data": {
      "image/png": "[encoded data removed]",
      "text/plain": [
       "<Figure size 640x480 with 1 Axes>"
      ]
     },
     "metadata": {},
     "output_type": "display_data"
    }
   ],
   "source": [
    "# TODO:\n",
    "#poblaciones (columna level5): \"Fuenlabrada\",\"Leganés\",\"Getafe\",\"Alcorcón\"\n",
    "# The new dataFrame is:    cinsurdf\n",
    "\n",
    "#Separando cada poblacion\n",
    "fu = cinsurdf[cinsurdf['level5'] == 'Fuenlabrada']\n",
    "le = cinsurdf[cinsurdf['level5'] == 'Leganés']\n",
    "ge = cinsurdf[cinsurdf['level5'] == 'Getafe']\n",
    "al = cinsurdf[cinsurdf['level5'] == 'Alcorcón']\n",
    "\n",
    "#Obtener la media de precio de cada poblacion por separado\n",
    "medfu = fu['price'].mean()\n",
    "medle = le['price'].mean()\n",
    "medge = ge['price'].mean()\n",
    "medal = al['price'].mean()\n",
    "\n",
    "x = [\"Fuenlabrada\",\"Leganés\",\"Getafe\",\"Alcorcón\"]\n",
    "y = [medfu, medle, medge, medal]\n",
    "plt.bar(x,y)\n",
    "\n",
    "plt.title('Precios promedio del cinturon sur de Madrid')\n",
    "plt.xlabel('Poblaciones')\n",
    "plt.ylabel('Precio')\n",
    "\n",
    "print(medfu, medle, medge, medal)\n",
    "\n"
   ]
  },
  {
   "attachments": {},
   "cell_type": "markdown",
   "id": "sublime-newspaper",
   "metadata": {},
   "source": [
    "Utilizando los promedios podemos ver que la poblacion donde es mas caro comprar una cas es en getafe, seguido de alorcon, leganes y la mas barata es fuenlabrada. Podemos ver que el rango promedio de costo va por encima de los 150000 y hasta un poco debajo de los 300000 de precio. Anteriormente analilzamos que a mayor superficie mayor precio, por lo que podemos pensar que el precio por metro cuadrado en getafe es marginalmente mas caro que en fuenlabrada, de esta forma una casa con las misma superficie sera mas cara. mientras que leganes y alorcon son mucho mas cercanos, por lo que el mismo presupesto podria ser ajustado o utilizado para comprar una casa en ambas poblaciones."
   ]
  },
  {
   "attachments": {},
   "cell_type": "markdown",
   "id": "speaking-diamond",
   "metadata": {},
   "source": [
    "#### Ejercicio 16. Calcula la media y la varianza dela muestra para las siguientes variables: precio, habitaciones, superficie y baños (debes usar el subconjunto obtenido en la pregunta 14) (★★★)\n",
    "\n",
    "Imprime ambos valores por  cada variable."
   ]
  },
  {
   "cell_type": "code",
   "execution_count": 21,
   "id": "random-feeling",
   "metadata": {},
   "outputs": [
    {
     "name": "stdout",
     "output_type": "stream",
     "text": [
      "La media de Precio en el cinturon sur de madrid es de 223094.48070562293, \n",
      " mientras que la varianza es de 14921367508.04902\n",
      "La media de Habitaciones en el cinturon sur de madrid es de 3.0177383592017737, \n",
      " mientras que la varianza es de 0.7188858892927542\n",
      "La media de Superficie en el cinturon sur de madrid es de 111.75222363405337, \n",
      " mientras que la varianza es de 4263.051760316337\n",
      "La media de Baños en el cinturon sur de madrid es de 1.633221850613155, \n",
      " mientras que la varianza es de 0.5717968625577321\n"
     ]
    }
   ],
   "source": [
    "# TODO\n",
    "#Calcularemos la media y varianza de todo el subconjunto del cinturon sur de madrid en los parametros:\n",
    "#PRECIO\n",
    "variable1 = \"Precio\"\n",
    "mcsmp = cinsurdf['price'].mean()\n",
    "vcsmp = cinsurdf['price'].var()\n",
    "print(f'La media de {variable1} en el cinturon sur de madrid es de {mcsmp}, \\n mientras que la varianza es de {vcsmp}')\n",
    "#HABITACIONES\n",
    "variable2 = 'Habitaciones'\n",
    "mcsmh = cinsurdf['rooms'].mean()\n",
    "vcsmh = cinsurdf['rooms'].var()\n",
    "print(f'La media de {variable2} en el cinturon sur de madrid es de {mcsmh}, \\n mientras que la varianza es de {vcsmh}')\n",
    "#SUPERFICIE\n",
    "variable3 = 'Superficie'\n",
    "mcsms = cinsurdf['surface'].mean()\n",
    "vcsms = cinsurdf['surface'].var()\n",
    "print(f'La media de {variable3} en el cinturon sur de madrid es de {mcsms}, \\n mientras que la varianza es de {vcsms}')\n",
    "#BANIOS\n",
    "variable4 = 'Baños'\n",
    "mcsmb = cinsurdf['bathrooms'].mean()\n",
    "vcsmb = cinsurdf['bathrooms'].var()\n",
    "print(f'La media de {variable4} en el cinturon sur de madrid es de {mcsmb}, \\n mientras que la varianza es de {vcsmb}')\n",
    "\n"
   ]
  },
  {
   "cell_type": "markdown",
   "id": "df61608c",
   "metadata": {},
   "source": [
    "Vemos una varianza enorme en el precio, indicando una dispersion muy alta. \n",
    "Vemos varianzas bajas en banios y habitaciones, lo que nos indica poca dispersion en ello. \n",
    "vemos una varianza considerable en la superficie, combinando con precio vemos una correlacion directa."
   ]
  },
  {
   "attachments": {},
   "cell_type": "markdown",
   "id": "revolutionary-matrix",
   "metadata": {},
   "source": [
    "#### Exercise 17. What is the most expensive house of each population? You must use the subset obtained in the question 14 (★★☆)\n",
    "\n",
    "Print both the address and the price of the selected house of each population. You can print a DataFrame or a single line for each population"
   ]
  },
  {
   "cell_type": "code",
   "execution_count": 22,
   "id": "fifteen-browse",
   "metadata": {},
   "outputs": [
    {
     "name": "stdout",
     "output_type": "stream",
     "text": [
      "The most expensive house in Fuenlabrada \n",
      " is on Calle de Paulo Freire, 5, Fuenlabrada and it costs 490000 dollars\n",
      "The most expensive house in Leganés \n",
      " is on Avenida Reina Sofía, Leganés and it costs 650000 dollars\n",
      "The most expensive house in Getafe \n",
      " is on Getafe and it costs 1050000 dollars\n",
      "The most expensive house in Alcorcón \n",
      " is on Alcorcón and it costs 950000 dollars\n"
     ]
    }
   ],
   "source": [
    "# TODO\n",
    "#Separando cada poblacion\n",
    "fu = cinsurdf[cinsurdf['level5'] == 'Fuenlabrada']\n",
    "le = cinsurdf[cinsurdf['level5'] == 'Leganés']\n",
    "ge = cinsurdf[cinsurdf['level5'] == 'Getafe']\n",
    "al = cinsurdf[cinsurdf['level5'] == 'Alcorcón']\n",
    "#listado de poblaciones\n",
    "p1 = \"Fuenlabrada\"\n",
    "p2 = 'Leganés'\n",
    "p3 = 'Getafe'\n",
    "p4 = 'Alcorcón'\n",
    "#Calculo de la casa mas cara de cada poblacion\n",
    "maxfu = fu['price'].max()\n",
    "maxle = le['price'].max()\n",
    "maxge = ge['price'].max()\n",
    "maxal = al['price'].max()\n",
    "#Get the address of each house\n",
    "addfu = cinsurdf.loc[cinsurdf['price']==maxfu, 'address'].to_string(index=False)\n",
    "addle = cinsurdf.loc[cinsurdf['price']==maxle, 'address'].to_string(index=False)\n",
    "addge = cinsurdf.loc[cinsurdf['price']==maxge, 'address'].to_string(index=False)\n",
    "addal = cinsurdf.loc[cinsurdf['price']==maxal, 'address'].to_string(index=False)\n",
    "#Print the address and price for each population, using a single line, because at the moment i dont know how to print the dataframe\n",
    "print(f'The most expensive house in {p1} \\n is on {addfu} and it costs {maxfu} dollars')\n",
    "print(f'The most expensive house in {p2} \\n is on {addle} and it costs {maxle} dollars')\n",
    "print(f'The most expensive house in {p3} \\n is on {addge} and it costs {maxge} dollars')\n",
    "print(f'The most expensive house in {p4} \\n is on {addal} and it costs {maxal} dollars')\n"
   ]
  },
  {
   "attachments": {},
   "cell_type": "markdown",
   "id": "activated-knight",
   "metadata": {},
   "source": [
    "#### Exercise 18. Normalize the variable of prices for each population and plot the 4 histograms in the same plot (you must use the subset obtained in the question 14) (★★★)\n",
    "\n",
    "For the normalization method you can use the one you consider to, there is not a single correct answer to this question. Print the plot and write in the Markdown cell a brief analysis about the plot\n",
    "\n",
    "Hint: You can help yourself reviewing the multihist demo of Matplotlib"
   ]
  },
  {
   "cell_type": "code",
   "execution_count": 23,
   "id": "civic-meditation",
   "metadata": {},
   "outputs": [
    {
     "data": {
      "image/png": "[encoded data removed]",
      "text/plain": [
       "<Figure size 640x480 with 1 Axes>"
      ]
     },
     "metadata": {},
     "output_type": "display_data"
    }
   ],
   "source": [
    "# TODO\n",
    "#Separando cada poblacion\n",
    "fu = cinsurdf[cinsurdf['level5'] == 'Fuenlabrada']\n",
    "le = cinsurdf[cinsurdf['level5'] == 'Leganés']\n",
    "ge = cinsurdf[cinsurdf['level5'] == 'Getafe']\n",
    "al = cinsurdf[cinsurdf['level5'] == 'Alcorcón']\n",
    "#get the price variable values in each population\n",
    "pricefu = fu['price']\n",
    "pricele = le['price']\n",
    "pricege = ge['price']\n",
    "priceal = al['price']\n",
    "#Normalize price in each population using mean normalization\n",
    "normpricefu = (pricefu-pricefu.mean())/pricefu.std()\n",
    "normpricele = (pricele-pricele.mean())/pricele.std()\n",
    "normpricege = (pricege-pricege.mean())/pricege.std()\n",
    "normpriceal = (priceal-priceal.mean())/priceal.std()\n",
    "#Printing the histogram \n",
    "plt.hist(normpricefu, label='Fuenlabrada', bins=14, alpha=.7, edgecolor='red')\n",
    "plt.hist(normpricele, label='Leganés', bins=14, alpha=.7, edgecolor='blue')\n",
    "plt.hist(normpricege, label='Getafe', bins=14, alpha=.7, edgecolor='green')\n",
    "plt.hist(normpriceal, label='Alcorcón', bins=14, alpha=.5, edgecolor='black')\n",
    "plt.xlabel('Normalized Price')\n",
    "plt.ylabel('Number of Houses')\n",
    "\n",
    "\n",
    "plt.show()\n",
    "\n"
   ]
  },
  {
   "attachments": {},
   "cell_type": "markdown",
   "id": "precise-heavy",
   "metadata": {},
   "source": [
    "**TODO: Markdown**. To write here, double click to this cell and just remove this content and place the text you want to write. Then, execute the cell."
   ]
  },
  {
   "attachments": {},
   "cell_type": "markdown",
   "id": "patent-jonathan",
   "metadata": {},
   "source": [
    "#### Exercise 19. What can you say about the price per square meter (price/m2) between the towns of \"Getafe\" and \"Alcorcón\"? You must use the subset obtained in the question 14 (★★☆)\n",
    "\n",
    "Hint: Create a new column called `pps` (price per square) and then analyse the values"
   ]
  },
  {
   "cell_type": "code",
   "execution_count": 25,
   "id": "initial-liverpool",
   "metadata": {},
   "outputs": [
    {
     "name": "stdout",
     "output_type": "stream",
     "text": [
      "2066.314949251463 2239.302480199618\n"
     ]
    },
    {
     "name": "stderr",
     "output_type": "stream",
     "text": [
      "/tmp/ipykernel_15178/1027374261.py:7: SettingWithCopyWarning: \n",
      "A value is trying to be set on a copy of a slice from a DataFrame.\n",
      "Try using .loc[row_indexer,col_indexer] = value instead\n",
      "\n",
      "See the caveats in the documentation: https://pandas.pydata.org/pandas-docs/stable/user_guide/indexing.html#returning-a-view-versus-a-copy\n",
      "  cinsurdf['pps'] = cinsurdf['price']/cinsurdf['surface']\n"
     ]
    },
    {
     "data": {
      "image/png": "[encoded data removed]",
      "text/plain": [
       "<Figure size 640x480 with 1 Axes>"
      ]
     },
     "metadata": {},
     "output_type": "display_data"
    }
   ],
   "source": [
    "# TODO\n",
    "#Separando cada poblacion\n",
    "ge = cinsurdf[cinsurdf['level5'] == 'Getafe']\n",
    "al = cinsurdf[cinsurdf['level5'] == 'Alcorcón']\n",
    "\n",
    "#crear la columna de pps \n",
    "cinsurdf['pps'] = cinsurdf['price']/cinsurdf['surface']\n",
    "print(ge['pps'].mean(), al['pps'].mean())\n",
    "plt.hist(ge['pps'])\n",
    "plt.hist(al['pps'])\n",
    "plt.ylabel('# of houses')\n",
    "plt.xlabel('Price per square meter')\n",
    "\n",
    "\n",
    "plt.show()\n",
    "\n"
   ]
  },
  {
   "cell_type": "markdown",
   "id": "322c7c66",
   "metadata": {},
   "source": [
    "Podemos ver en el promedio que el pps es mas alto en alorcon, no es un margen enorme, pero es evidente con el histograma que se debe a que el grueso de los datos de alorcon estan por encima en precio de el pico de getafe, por ello es que el precio promedio es mayor"
   ]
  },
  {
   "attachments": {},
   "cell_type": "markdown",
   "id": "enhanced-moscow",
   "metadata": {},
   "source": [
    "#### Exercise 20. Make the same plot for 4 different populations (level5 column) and rearrange them on the same graph? You must use the subset obtained in the question 14 (★★☆) \n",
    "Hint: make a scatter plot of each population using subplots."
   ]
  },
  {
   "cell_type": "code",
   "execution_count": 26,
   "id": "accepting-airfare",
   "metadata": {},
   "outputs": [
    {
     "data": {
      "text/plain": [
       "Text(0.5, 1.0, 'Alcorcón')"
      ]
     },
     "execution_count": 26,
     "metadata": {},
     "output_type": "execute_result"
    },
    {
     "data": {
      "image/png": "[encoded data removed]",
      "text/plain": [
       "<Figure size 640x480 with 4 Axes>"
      ]
     },
     "metadata": {},
     "output_type": "display_data"
    }
   ],
   "source": [
    "# TODO\n",
    "#poblaciones (columna level5): \"Fuenlabrada\",\"Leganés\",\"Getafe\",\"Alcorcón\"\n",
    "#get the data that i will plot with\n",
    "\n",
    "\n",
    "\n",
    "fig, bigone = plt.subplots(2,2, sharex=True, sharey=True)\n",
    "fig.suptitle('distribution of price based on # of bathrooms')\n",
    "fig.supxlabel('# Bathrooms')\n",
    "fig.supylabel('Price')\n",
    "\n",
    "bigone[0,0].scatter(cinsurdf.loc[cinsurdf['level5'] == 'Fuenlabrada', 'bathrooms'],cinsurdf.loc[cinsurdf['level5'] == 'Fuenlabrada', 'price'], s=1, color='red', alpha=.5)\n",
    "bigone[0,0].set_title('Fuenlabrada')\n",
    "bigone[1,0].scatter(cinsurdf.loc[cinsurdf['level5'] == 'Leganés', 'bathrooms'],cinsurdf.loc[cinsurdf['level5'] == 'Leganés', 'price'], s=1, color='green', alpha=.5)\n",
    "bigone[1,0].set_title('Leganés')\n",
    "bigone[1,1].scatter(cinsurdf.loc[cinsurdf['level5'] == 'Getafe', 'bathrooms'],cinsurdf.loc[cinsurdf['level5'] == 'Getafe', 'price'], s=1, color='black', alpha=.5)\n",
    "bigone[1,1].set_title('Getafe')\n",
    "bigone[0,1].scatter(cinsurdf.loc[cinsurdf['level5'] == 'Alcorcón', 'bathrooms'],cinsurdf.loc[cinsurdf['level5'] == 'Alcorcón', 'price'], s=1, color='purple', alpha=.5)\n",
    "bigone[0,1].set_title('Alcorcón')\n",
    "\n",
    "\n",
    "\n",
    "\n"
   ]
  },
  {
   "attachments": {},
   "cell_type": "markdown",
   "id": "blocked-effects",
   "metadata": {},
   "source": [
    "#### Ejercicio 21. Realiza un trazado de las coordenadas (columnas latitud y longitud) del cinturón ur de Madrid por color d cada población (debes usar el subconjunto obtenido en la pregunta 14) (★★★★)\n",
    "\n",
    "Ejecuta la siguiente celda y luego comienza a codear en la siguiente. Debes implementar u código simple que transforme las columnas de coordenadas en un diccionario de python (agrega más información si es necesario) y agrégala al mapa."
   ]
  },
  {
   "cell_type": "code",
   "execution_count": 43,
   "id": "headed-privacy",
   "metadata": {},
   "outputs": [
    {
     "data": {
      "application/vnd.jupyter.widget-view+json": {
       "model_id": "d68b8bfdee834ef181d772b9c6b46916",
       "version_major": 2,
       "version_minor": 0
      },
      "text/plain": [
       "Map(center=[60, -2.2], controls=(ZoomControl(options=['position', 'zoom_in_text', 'zoom_in_title', 'zoom_out_t…"
      ]
     },
     "execution_count": 43,
     "metadata": {},
     "output_type": "execute_result"
    }
   ],
   "source": [
    "from ipyleaflet import Map, basemaps, Marker\n",
    "\n",
    "#Mapa centrado en (60 grados latitud et -2.2 grados longitud)\n",
    "        #Latitud, longitud\n",
    "map = Map(center = (60, -2.2), zoom = 2, min_zoom = 1, max_zoom = 20, \n",
    "    basemap=basemaps.OpenStreetMap.Mapnik)\n",
    "map\n",
    "\n"
   ]
  },
  {
   "cell_type": "code",
   "execution_count": 44,
   "id": "present-mistress",
   "metadata": {},
   "outputs": [
    {
     "name": "stderr",
     "output_type": "stream",
     "text": [
      "/tmp/ipykernel_15178/877852854.py:5: SettingWithCopyWarning: \n",
      "A value is trying to be set on a copy of a slice from a DataFrame.\n",
      "Try using .loc[row_indexer,col_indexer] = value instead\n",
      "\n",
      "See the caveats in the documentation: https://pandas.pydata.org/pandas-docs/stable/user_guide/indexing.html#returning-a-view-versus-a-copy\n",
      "  cinsurdf['latitude'] = cinsurdf['latitude'].astype(\"string\")\n",
      "/tmp/ipykernel_15178/877852854.py:6: SettingWithCopyWarning: \n",
      "A value is trying to be set on a copy of a slice from a DataFrame.\n",
      "Try using .loc[row_indexer,col_indexer] = value instead\n",
      "\n",
      "See the caveats in the documentation: https://pandas.pydata.org/pandas-docs/stable/user_guide/indexing.html#returning-a-view-versus-a-copy\n",
      "  cinsurdf['longitude'] = cinsurdf['longitude'].astype(\"string\")\n",
      "/tmp/ipykernel_15178/877852854.py:7: SettingWithCopyWarning: \n",
      "A value is trying to be set on a copy of a slice from a DataFrame.\n",
      "Try using .loc[row_indexer,col_indexer] = value instead\n",
      "\n",
      "See the caveats in the documentation: https://pandas.pydata.org/pandas-docs/stable/user_guide/indexing.html#returning-a-view-versus-a-copy\n",
      "  cinsurdf['latitude'] = cinsurdf['latitude'].replace(',', '.', regex=True)\n",
      "/tmp/ipykernel_15178/877852854.py:8: SettingWithCopyWarning: \n",
      "A value is trying to be set on a copy of a slice from a DataFrame.\n",
      "Try using .loc[row_indexer,col_indexer] = value instead\n",
      "\n",
      "See the caveats in the documentation: https://pandas.pydata.org/pandas-docs/stable/user_guide/indexing.html#returning-a-view-versus-a-copy\n",
      "  cinsurdf['longitude'] = cinsurdf['longitude'].replace(',', '.', regex=True)\n"
     ]
    },
    {
     "data": {
      "application/vnd.jupyter.widget-view+json": {
       "model_id": "d68b8bfdee834ef181d772b9c6b46916",
       "version_major": 2,
       "version_minor": 0
      },
      "text/plain": [
       "Map(center=[60, -2.2], controls=(ZoomControl(options=['position', 'zoom_in_text', 'zoom_in_title', 'zoom_out_t…"
      ]
     },
     "execution_count": 44,
     "metadata": {},
     "output_type": "execute_result"
    }
   ],
   "source": [
    "## Aquí: traza la coordenadas de los estados\n",
    "#print(cinsurdf.info())\n",
    "##poblaciones (columna level5): \"Fuenlabrada\",\"Leganés\",\"Getafe\",\"Alcorcón\"\n",
    "\n",
    "cinsurdf['latitude'] = cinsurdf['latitude'].astype(\"string\")\n",
    "cinsurdf['longitude'] = cinsurdf['longitude'].astype(\"string\")\n",
    "cinsurdf['latitude'] = cinsurdf['latitude'].replace(',', '.', regex=True)\n",
    "cinsurdf['longitude'] = cinsurdf['longitude'].replace(',', '.', regex=True)\n",
    "\n",
    "#Fuenlabrada is red\n",
    "#fulat = cinsurdf.loc[cinsurdf['level5']== 'Fuenlabrada', 'latitude']\n",
    "#fulon = cinsurdf.loc[cinsurdf['level5']== 'Fuenlabrada', 'longitude']\n",
    "#coord = dict(zip(fulat, fulon))\n",
    "#c1 = list(coord.items())\n",
    "#print(c1)\n",
    "\n",
    "\n",
    "coordinates = cinsurdf[['latitude', 'longitude']].values\n",
    "populations = cinsurdf['level5'].values\n",
    "test = True\n",
    "# Adding Markers to the map with Popup\n",
    "for (lat, lon), pop in zip(coordinates, populations):\n",
    "    if lat != '0' and lon != '0':\n",
    "        marker = Marker(location=(lat, lon), draggable=False)\n",
    "        map.add_layer(marker)\n",
    "    else:\n",
    "        continue\n",
    "map"
   ]
  }
 ],
 "metadata": {
  "kernelspec": {
   "display_name": "Python 3",
   "language": "python",
   "name": "python3"
  },
  "language_info": {
   "codemirror_mode": {
    "name": "ipython",
    "version": 3
   },
   "file_extension": ".py",
   "mimetype": "text/x-python",
   "name": "python",
   "nbconvert_exporter": "python",
   "pygments_lexer": "ipython3",
   "version": "3.11.4"
  }
 },
 "nbformat": 4,
 "nbformat_minor": 5
}
